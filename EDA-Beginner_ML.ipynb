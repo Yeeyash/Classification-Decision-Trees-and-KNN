{
 "cells": [
  {
   "cell_type": "markdown",
   "id": "312b8e2a",
   "metadata": {},
   "source": [
    "# Introduction to Machine Learning with Classification, Decision Trees, KNN and Mathematics."
   ]
  },
  {
   "cell_type": "markdown",
   "id": "279e1828-3a72-461e-9db4-83c3a9c5fb9e",
   "metadata": {},
   "source": [
    "This Notebook is an Addition to the Work already presented (Titled: Visual Data Analysis of Accidents Using Python, NumPy, Pandas, Matplotlib and Seaborn), which was based on How to Implement Python and its Libraries to Visualize a given Dataset and provide an Analysis on it.<br>\n",
    "\n",
    "This notebook will be about my learnings from the article/notebook by <a href=\"https://www.kaggle.com/kashnitsky\">\"Yury Kashnitsky\"</a>, This is going to be put through in a way that every beginner shall get a firm gist of what Machine Learning consists of and the Amount of Learning that it has got to provide.<br>\n",
    "There are going to be a few Sentences/Lines from the Work by Sir Yury gathered via his notebook.<br>\n",
    "\n",
    "The Links and referrals are provided below:<br>\n",
    "\n",
    "Learn Introduction to Machine Learning using Classification, Decision Trees and KNN through Blogs/Notebooks: https://www.kaggle.com/code/kashnitsky/topic-3-decision-trees-and-knn#1.-Introduction <br>\n",
    "Traffic Accidents Dataset: https://www.kaggle.com/datasets/oktayrdeki/traffic-accidents <br>\n",
    "\n",
    "The previous Article covered topic like What is Univariate Visualization, Quantitative and Qualitative Features, Plotting Several types of Graphs using Seaborn and Matplotlib, and more.<br>\n",
    "\n",
    "This time we are going to focus on the basics of Machine Learning types and their Algorithms, More importantly, Understanding the Mathematics behind them and using it alongside our Intuition to come up with Better Results.<br>\n",
    "\n",
    "We also will be using the Go-To library for beginners in Machine Learning: Scikit-learn, all thanks to its Simpicity of Syntax in Python and Implementation of a Variety of Algorithms."
   ]
  },
  {
   "cell_type": "markdown",
   "id": "ae013ff3-0606-47ea-9899-e5aaf29c1829",
   "metadata": {},
   "source": [
    "## Introduction"
   ]
  },
  {
   "cell_type": "markdown",
   "id": "1b0c6633-b5ca-4632-8896-6f7ee1af9c55",
   "metadata": {},
   "source": [
    "This section will be answering a few questions and providing a brief information about questions such as \"What Machine Learning algorithms do?\", \"How do these algorithms differ\", \"Types of Machine Learning Methods.\", etc. "
   ]
  },
  {
   "cell_type": "markdown",
   "id": "7bfaeab5-1074-4810-89c1-2755c67cc263",
   "metadata": {},
   "source": [
    "Sir Yuri goes through the book \"Machine Learning\" (1997) by T. Mitchell showcasing the \"General Definition of Machine Learning\" by:<br>\n",
    "> A Computer Program is said to learn from experience \"E\" with respect to some Class of Tasks \"T\" and Performance Measure \"P\", if its Performance at Tasks in T, as measured by P, Improves with \"E\"."
   ]
  },
  {
   "cell_type": "markdown",
   "id": "2872d4ab-b5fa-4fcf-88ae-96f0a07fc022",
   "metadata": {},
   "source": [
    "The Above Measures/Quantities do mean different outcomes in various context's but when it comes to Machine Learning, the Quanitity \"T\" can refer to:<br>\n",
    "1. Classification: Differentiating Objects based on their Features/Qualities.\n",
    "2. Regression: Prediction of a numerical target feature based on other features of an instance.\n",
    "3. Clustering: Identifing partitions of Instances based on the Features of these instances so that the members within the gorups are more similar to each other than those in the other groups.(Comparing and Creating groups of Similar Data)\n",
    "4. Anomaly Detection: Searching for instances that Differ from rest of the sample or to group of instances, The search can be established by looking for a large difference between the features(Either Quantitative or Qualitative, or both.)<br>\n",
    "\n",
    "There are many more important references and Meanings to this \"T\"."
   ]
  },
  {
   "cell_type": "markdown",
   "id": "0bafb91e-b838-457d-aadd-d0b2f6bfc5d8",
   "metadata": {},
   "source": [
    "The Experience \"E\" Refers to \"Data\", the fundamental pieces over which Analysis, Training, Valiating, Testing, etc is to be done, without Data,  we cannot simply start with any of those.<br>\n",
    "Data, comes in different Shapes and Forms, Most having the general purpose of holding some information to it, When we combine greater chunks of Data and segregate them based on their Qualities we get a <strong>Dataset</strong>.<br>\n",
    "The Qualities based on which the data has been segregated are called \"Features\" and the values residing in these features for any given index is called its \"Instance\"."
   ]
  },
  {
   "cell_type": "markdown",
   "id": "c3e6b358-ab7b-49c4-a3f6-dc9a2b3227e9",
   "metadata": {},
   "source": [
    "Understanding Data, Its Functions and Management(Cleaning, Organizing, Manipulating large portions, etc) are all covered in My First <a href=\"https://github.com/Yeeyash/EDA_Traffic_Accidents\">EDA Notebook</a>"
   ]
  },
  {
   "cell_type": "markdown",
   "id": "65f123da-6a8d-43bc-85ec-e487c2e60918",
   "metadata": {},
   "source": [
    "We can Understand these terms by experimenting with the Dataset itself."
   ]
  },
  {
   "cell_type": "markdown",
   "id": "ad66dceb-88b7-4eb1-82eb-a4907757737c",
   "metadata": {},
   "source": [
    "### Importing Libraries\n",
    "\n",
    "Pandas as pd --> Pandas is used for creating a Dataframe(refferd as \"df\"), manipulating and cleaning of data.\n",
    "\n",
    "NumPy as np --> NumPy(Numerical Python) is a well known library for creating and performing Mathematical functions over Multi-Dimensional Arrays."
   ]
  },
  {
   "cell_type": "code",
   "execution_count": 1,
   "id": "f763acff-fe92-4729-9a18-a97cde5d9ccd",
   "metadata": {},
   "outputs": [],
   "source": [
    "import pandas as pd\n",
    "import numpy as np"
   ]
  },
  {
   "cell_type": "code",
   "execution_count": 2,
   "id": "cc4437bb-031f-40d4-b05e-265b84738387",
   "metadata": {},
   "outputs": [
    {
     "data": {
      "text/html": [
       "<div>\n",
       "<style scoped>\n",
       "    .dataframe tbody tr th:only-of-type {\n",
       "        vertical-align: middle;\n",
       "    }\n",
       "\n",
       "    .dataframe tbody tr th {\n",
       "        vertical-align: top;\n",
       "    }\n",
       "\n",
       "    .dataframe thead th {\n",
       "        text-align: right;\n",
       "    }\n",
       "</style>\n",
       "<table border=\"1\" class=\"dataframe\">\n",
       "  <thead>\n",
       "    <tr style=\"text-align: right;\">\n",
       "      <th></th>\n",
       "      <th>crash_date</th>\n",
       "      <th>traffic_control_device</th>\n",
       "      <th>weather_condition</th>\n",
       "      <th>lighting_condition</th>\n",
       "      <th>first_crash_type</th>\n",
       "      <th>trafficway_type</th>\n",
       "      <th>alignment</th>\n",
       "      <th>roadway_surface_cond</th>\n",
       "      <th>road_defect</th>\n",
       "      <th>crash_type</th>\n",
       "      <th>...</th>\n",
       "      <th>most_severe_injury</th>\n",
       "      <th>injuries_total</th>\n",
       "      <th>injuries_fatal</th>\n",
       "      <th>injuries_incapacitating</th>\n",
       "      <th>injuries_non_incapacitating</th>\n",
       "      <th>injuries_reported_not_evident</th>\n",
       "      <th>injuries_no_indication</th>\n",
       "      <th>crash_hour</th>\n",
       "      <th>crash_day_of_week</th>\n",
       "      <th>crash_month</th>\n",
       "    </tr>\n",
       "  </thead>\n",
       "  <tbody>\n",
       "    <tr>\n",
       "      <th>0</th>\n",
       "      <td>07/29/2023 01:00:00 PM</td>\n",
       "      <td>TRAFFIC SIGNAL</td>\n",
       "      <td>CLEAR</td>\n",
       "      <td>DAYLIGHT</td>\n",
       "      <td>TURNING</td>\n",
       "      <td>NOT DIVIDED</td>\n",
       "      <td>STRAIGHT AND LEVEL</td>\n",
       "      <td>UNKNOWN</td>\n",
       "      <td>UNKNOWN</td>\n",
       "      <td>NO INJURY / DRIVE AWAY</td>\n",
       "      <td>...</td>\n",
       "      <td>NO INDICATION OF INJURY</td>\n",
       "      <td>0.0</td>\n",
       "      <td>0.0</td>\n",
       "      <td>0.0</td>\n",
       "      <td>0.0</td>\n",
       "      <td>0.0</td>\n",
       "      <td>3.0</td>\n",
       "      <td>13</td>\n",
       "      <td>7</td>\n",
       "      <td>7</td>\n",
       "    </tr>\n",
       "    <tr>\n",
       "      <th>1</th>\n",
       "      <td>08/13/2023 12:11:00 AM</td>\n",
       "      <td>TRAFFIC SIGNAL</td>\n",
       "      <td>CLEAR</td>\n",
       "      <td>DARKNESS, LIGHTED ROAD</td>\n",
       "      <td>TURNING</td>\n",
       "      <td>FOUR WAY</td>\n",
       "      <td>STRAIGHT AND LEVEL</td>\n",
       "      <td>DRY</td>\n",
       "      <td>NO DEFECTS</td>\n",
       "      <td>NO INJURY / DRIVE AWAY</td>\n",
       "      <td>...</td>\n",
       "      <td>NO INDICATION OF INJURY</td>\n",
       "      <td>0.0</td>\n",
       "      <td>0.0</td>\n",
       "      <td>0.0</td>\n",
       "      <td>0.0</td>\n",
       "      <td>0.0</td>\n",
       "      <td>2.0</td>\n",
       "      <td>0</td>\n",
       "      <td>1</td>\n",
       "      <td>8</td>\n",
       "    </tr>\n",
       "    <tr>\n",
       "      <th>2</th>\n",
       "      <td>12/09/2021 10:30:00 AM</td>\n",
       "      <td>TRAFFIC SIGNAL</td>\n",
       "      <td>CLEAR</td>\n",
       "      <td>DAYLIGHT</td>\n",
       "      <td>REAR END</td>\n",
       "      <td>T-INTERSECTION</td>\n",
       "      <td>STRAIGHT AND LEVEL</td>\n",
       "      <td>DRY</td>\n",
       "      <td>NO DEFECTS</td>\n",
       "      <td>NO INJURY / DRIVE AWAY</td>\n",
       "      <td>...</td>\n",
       "      <td>NO INDICATION OF INJURY</td>\n",
       "      <td>0.0</td>\n",
       "      <td>0.0</td>\n",
       "      <td>0.0</td>\n",
       "      <td>0.0</td>\n",
       "      <td>0.0</td>\n",
       "      <td>3.0</td>\n",
       "      <td>10</td>\n",
       "      <td>5</td>\n",
       "      <td>12</td>\n",
       "    </tr>\n",
       "    <tr>\n",
       "      <th>3</th>\n",
       "      <td>08/09/2023 07:55:00 PM</td>\n",
       "      <td>TRAFFIC SIGNAL</td>\n",
       "      <td>CLEAR</td>\n",
       "      <td>DAYLIGHT</td>\n",
       "      <td>ANGLE</td>\n",
       "      <td>FOUR WAY</td>\n",
       "      <td>STRAIGHT AND LEVEL</td>\n",
       "      <td>DRY</td>\n",
       "      <td>NO DEFECTS</td>\n",
       "      <td>INJURY AND / OR TOW DUE TO CRASH</td>\n",
       "      <td>...</td>\n",
       "      <td>NONINCAPACITATING INJURY</td>\n",
       "      <td>5.0</td>\n",
       "      <td>0.0</td>\n",
       "      <td>0.0</td>\n",
       "      <td>5.0</td>\n",
       "      <td>0.0</td>\n",
       "      <td>0.0</td>\n",
       "      <td>19</td>\n",
       "      <td>4</td>\n",
       "      <td>8</td>\n",
       "    </tr>\n",
       "    <tr>\n",
       "      <th>4</th>\n",
       "      <td>08/19/2023 02:55:00 PM</td>\n",
       "      <td>TRAFFIC SIGNAL</td>\n",
       "      <td>CLEAR</td>\n",
       "      <td>DAYLIGHT</td>\n",
       "      <td>REAR END</td>\n",
       "      <td>T-INTERSECTION</td>\n",
       "      <td>STRAIGHT AND LEVEL</td>\n",
       "      <td>UNKNOWN</td>\n",
       "      <td>UNKNOWN</td>\n",
       "      <td>NO INJURY / DRIVE AWAY</td>\n",
       "      <td>...</td>\n",
       "      <td>NO INDICATION OF INJURY</td>\n",
       "      <td>0.0</td>\n",
       "      <td>0.0</td>\n",
       "      <td>0.0</td>\n",
       "      <td>0.0</td>\n",
       "      <td>0.0</td>\n",
       "      <td>3.0</td>\n",
       "      <td>14</td>\n",
       "      <td>7</td>\n",
       "      <td>8</td>\n",
       "    </tr>\n",
       "  </tbody>\n",
       "</table>\n",
       "<p>5 rows × 24 columns</p>\n",
       "</div>"
      ],
      "text/plain": [
       "               crash_date traffic_control_device weather_condition  \\\n",
       "0  07/29/2023 01:00:00 PM         TRAFFIC SIGNAL             CLEAR   \n",
       "1  08/13/2023 12:11:00 AM         TRAFFIC SIGNAL             CLEAR   \n",
       "2  12/09/2021 10:30:00 AM         TRAFFIC SIGNAL             CLEAR   \n",
       "3  08/09/2023 07:55:00 PM         TRAFFIC SIGNAL             CLEAR   \n",
       "4  08/19/2023 02:55:00 PM         TRAFFIC SIGNAL             CLEAR   \n",
       "\n",
       "       lighting_condition first_crash_type trafficway_type  \\\n",
       "0                DAYLIGHT          TURNING     NOT DIVIDED   \n",
       "1  DARKNESS, LIGHTED ROAD          TURNING        FOUR WAY   \n",
       "2                DAYLIGHT         REAR END  T-INTERSECTION   \n",
       "3                DAYLIGHT            ANGLE        FOUR WAY   \n",
       "4                DAYLIGHT         REAR END  T-INTERSECTION   \n",
       "\n",
       "            alignment roadway_surface_cond road_defect  \\\n",
       "0  STRAIGHT AND LEVEL              UNKNOWN     UNKNOWN   \n",
       "1  STRAIGHT AND LEVEL                  DRY  NO DEFECTS   \n",
       "2  STRAIGHT AND LEVEL                  DRY  NO DEFECTS   \n",
       "3  STRAIGHT AND LEVEL                  DRY  NO DEFECTS   \n",
       "4  STRAIGHT AND LEVEL              UNKNOWN     UNKNOWN   \n",
       "\n",
       "                         crash_type  ...        most_severe_injury  \\\n",
       "0            NO INJURY / DRIVE AWAY  ...   NO INDICATION OF INJURY   \n",
       "1            NO INJURY / DRIVE AWAY  ...   NO INDICATION OF INJURY   \n",
       "2            NO INJURY / DRIVE AWAY  ...   NO INDICATION OF INJURY   \n",
       "3  INJURY AND / OR TOW DUE TO CRASH  ...  NONINCAPACITATING INJURY   \n",
       "4            NO INJURY / DRIVE AWAY  ...   NO INDICATION OF INJURY   \n",
       "\n",
       "  injuries_total injuries_fatal  injuries_incapacitating  \\\n",
       "0            0.0            0.0                      0.0   \n",
       "1            0.0            0.0                      0.0   \n",
       "2            0.0            0.0                      0.0   \n",
       "3            5.0            0.0                      0.0   \n",
       "4            0.0            0.0                      0.0   \n",
       "\n",
       "  injuries_non_incapacitating  injuries_reported_not_evident  \\\n",
       "0                         0.0                            0.0   \n",
       "1                         0.0                            0.0   \n",
       "2                         0.0                            0.0   \n",
       "3                         5.0                            0.0   \n",
       "4                         0.0                            0.0   \n",
       "\n",
       "   injuries_no_indication  crash_hour  crash_day_of_week  crash_month  \n",
       "0                     3.0          13                  7            7  \n",
       "1                     2.0           0                  1            8  \n",
       "2                     3.0          10                  5           12  \n",
       "3                     0.0          19                  4            8  \n",
       "4                     3.0          14                  7            8  \n",
       "\n",
       "[5 rows x 24 columns]"
      ]
     },
     "execution_count": 2,
     "metadata": {},
     "output_type": "execute_result"
    }
   ],
   "source": [
    "df = pd.read_csv(\"traffic_accidents.csv\")\n",
    "df.head()"
   ]
  },
  {
   "cell_type": "markdown",
   "id": "cced7a69-78b8-43f5-b5cf-7becc3d55942",
   "metadata": {},
   "source": [
    "In here, we can see a <strong>\"DataFrame\"</strong>. this is a more visually informative form of a Dataset, arranged in Rows and Columns like a table.<br>\n",
    "All the Observed \"Columns\" are \"Features\" for Data residing inside them, Observed \"Rows\" are the \"Instances\" which follow a given \"Feature\".<br>\n",
    "For Example, \"Clear\" is the \"Instance\" for its given \"Feature\" - \"weather_condition\", and so on."
   ]
  },
  {
   "cell_type": "markdown",
   "id": "edd4ecb4-03ad-45be-8d37-eee893317cd8",
   "metadata": {},
   "source": [
    "Moreover, The Quantity \"E\"(Experience) is \"trained\" through Machine Learning Algorithms via \"Supervised\" or \"Unsupervised\" methods. Supervised Learning is done by providing the Algorithm a \"Target Variable\" or a \"Target Feature\" which is used to predict outcomes based on given Features and their Instances, This Target Feature is also used to Calculate insights such as \"Accuracy\" and more.<br>\n",
    "In Unsupervised Learning, Algorithm has to predict outcomes solely based on the provided Features and Instances, This is usually done when a target feature is not present in th DataSet for our Training Set."
   ]
  },
  {
   "cell_type": "markdown",
   "id": "5e33f8d5-32cc-4e0b-b97e-ce7673726f2d",
   "metadata": {},
   "source": [
    "For Exammple, In our \"traffic_accidents\" DataSet, the target feature can be a Column representing if an Accident has occured or not(1 or 0, 1 for True, 0 for False) which can be used by an Algorithm trained on Features such as \"weather_condition\",\"road_defects\",etc."
   ]
  },
  {
   "cell_type": "markdown",
   "id": "2040a198-e1bb-4ba7-86ae-f964d0b551d6",
   "metadata": {},
   "source": [
    "We will look how Machine Learning Algorithms work by Two Supervised Learning Problems: Classification and Regression.<br>\n",
    "Starting off with the most popular one, A Decision Tree."
   ]
  },
  {
   "cell_type": "markdown",
   "id": "66899c4e-409b-491f-90f7-dfc8584de59c",
   "metadata": {},
   "source": [
    "## Decision Trees"
   ]
  },
  {
   "cell_type": "markdown",
   "id": "94bb3c09-cb50-464e-8552-e3da0f276cb0",
   "metadata": {},
   "source": [
    "Decision Trees are the most popular methods of Classification and Regression, this is because Decision Trees are not only used in Machine Learning but our everyday lives as well, Say there is a party to attend and one has to decide which dress to wear, the sequence of thoughts a person goes through before coming to an conclusion is only a Decision Tree, These can also be thought off as multiple \"IF\" and \"ELSE\" statements that occur until a target is achieved."
   ]
  },
  {
   "cell_type": "markdown",
   "id": "9f32ff6a-9a7d-43b7-851b-231ad77edeac",
   "metadata": {},
   "source": [
    "Flow Diagrams are the Visual Representation for Decision Trees."
   ]
  },
  {
   "cell_type": "markdown",
   "id": "5dcf0557-d82e-4da0-942b-416fef39261e",
   "metadata": {},
   "source": [
    "In terms of Machine Learning, one can also think these as Classifiers that determine the appropriate match of dress for a party, based on its theme."
   ]
  },
  {
   "cell_type": "markdown",
   "id": "2afdd691-cc3f-4a76-8e8f-80bf968a082b",
   "metadata": {},
   "source": [
    "In this Notebook, we will be solving a Binary CLassification Problem(Did an Accident Happen or Not) based on the \"road defects\", \"weather condition\", \"intersection related i\" and more features."
   ]
  },
  {
   "cell_type": "markdown",
   "id": "3ba8f7d6-f970-4145-b41b-d9a016241124",
   "metadata": {},
   "source": [
    "<img src=\"decTree.jpeg\"></img>"
   ]
  },
  {
   "cell_type": "markdown",
   "id": "b2d6c7a5-1b84-4667-8906-26b3dfe67bbd",
   "metadata": {},
   "source": [
    "Decision Trees in Machine Learning as Algorithms is same as making a sequence of logical Rules of the form \"Feature x value is True based on provided Condition = Category 1.\", into a tree like data structure."
   ]
  },
  {
   "cell_type": "markdown",
   "id": "fbbabac0-007a-4c69-aff4-7a0def68c866",
   "metadata": {},
   "source": [
    "The Advantage of this Algorithm is that it is easily interpretable and is understood quickly. for example, one can distinguish if the accident is caused by contribution of \"Weather Conditions\" or not just by knowning if Accident has occured based on other features."
   ]
  },
  {
   "cell_type": "markdown",
   "id": "3a7c1feb-f31a-479b-b328-e177e59f0bbf",
   "metadata": {},
   "source": [
    "There are many more better performing models that also are more accurate, but do not deliver the same \"Easy in Understanding\" and hence are more difficult to comprehend, this can be an issue when it comes to explaining the model to soomeone who belongs from a non - technical background."
   ]
  },
  {
   "cell_type": "markdown",
   "id": "3ea9e669-ee30-4e8f-b341-77994baa36af",
   "metadata": {},
   "source": [
    "## How to Build a Decision Tree"
   ]
  },
  {
   "cell_type": "markdown",
   "id": "f03e08cb-72f9-405b-9e59-d21555968f1b",
   "metadata": {},
   "source": [
    "Since, The Decision that an Accident has occured or not is based on conditions regarding road, weather, lighting, track type, whether there was an intersection or not, etc. The Deciding Factor turns out to be - What Variable to look after first?"
   ]
  },
  {
   "cell_type": "markdown",
   "id": "62bd4064-3be8-45b8-94a7-c8f09b44b5e3",
   "metadata": {},
   "source": [
    "Whenever trying to figure out which Variable is to be considered and which not to, always start tackling the problem with \"Broarder Scope\" or the most random argument which can be made while keeping it relevant to the topic, In our case, the first Intuition could be - \"Are there any Pot Holes on the road\" or \"Was the Weather rainy/in Monsoon\". After Identifying the Issue, keep narrowing the statements until a Binary Route(Either this or that) is achieved. Say, after our initial Statement, one had raised more dampning questions and came to a statement - \"Was there any Intersection?\" or \"Was the person that got into the Accident Monitered by some Traffic Control(Traffic Light/Police, etc)\". These are all statements which initially began with a high randomness and slowly became more clear and stable/less random. Hence, referring to the concept of \"Entropy\"."
   ]
  },
  {
   "cell_type": "markdown",
   "id": "0aec08ee-951a-4c87-9cfc-aa1925fe4260",
   "metadata": {},
   "source": [
    "### Entropy"
   ]
  },
  {
   "cell_type": "markdown",
   "id": "80fb0bfd-100b-427f-8554-8602cf1fb129",
   "metadata": {},
   "source": [
    "Entropy like Machine Learning also comes in a few shapes and forms, Thermodynamic, Statistical, Information(Shannon), Negentropy(Opposite of Entropy), Dynamic System, Sociological, Cosmological and more.<br>\n",
    "\n",
    "Each point to the same path - \"Degree of Randomness\" for a given system.<br>\n",
    "This states how randomly organized the elements inside a system are, Higher entropy results in higher randomness, whereas, Lower entropy means more organized.<br>\n",
    "A Higher Entropy means lesser energy left inside the system to work, hence more stability and vice-versa.<br>\n",
    "\n",
    "In our case, we will be studying Shannon's Entropy or \"Information Entropy\". Higher Entropy means more \"noise\" and more residual information to further filter."
   ]
  },
  {
   "cell_type": "markdown",
   "id": "52c30540-4142-4eff-8d07-a7a7e580ab35",
   "metadata": {},
   "source": [
    "#### Shannon's Entropy"
   ]
  },
  {
   "cell_type": "markdown",
   "id": "0edd10af-9b26-4145-9b18-0ef6858a3bad",
   "metadata": {},
   "source": [
    "\"A measure of the average amount of information or uncertainity associated with a random variable\".<br>\n",
    "\n",
    "This is calculated using the probabilities of different outcomes of a random variable.<br>\n",
    "A Higher Entropy indicates that random variable is of high uncertainity and probability of its occurence is very low.<br>\n",
    "A lower Entropy on the other hand, represents that the system is more predictable and elements have a high probability of occuring, like getting a \"heads\" when a coin is tossed(50% is high).<br>\n",
    "\n",
    "Hence, Shannon's Entropy is related to the uncertainity of a system and outcomes can be visualized and predicted/calculated intuitively as well."
   ]
  },
  {
   "cell_type": "markdown",
   "id": "fa0db163-77c3-493b-8e06-1fff57627305",
   "metadata": {},
   "source": [
    "The Formula for Shannon's Entrop is:\n",
    "<img src=\"Shantropy.png\"></img>"
   ]
  },
  {
   "cell_type": "markdown",
   "id": "2a52ed1e-bb9c-4c03-a92e-565feeb7632c",
   "metadata": {},
   "source": [
    "Where \"H\" represents Entropy for System, \"K\" is the number of entities and \"p<sub>i</sub>\" being the Individual Probabilities of that entity."
   ]
  },
  {
   "cell_type": "markdown",
   "id": "f80dd8e0-4f41-4341-8264-baea7e1041a1",
   "metadata": {},
   "source": [
    "#### Information Gain(IG)"
   ]
  },
  {
   "cell_type": "markdown",
   "id": "f4433a21-fecb-4ff7-a7dd-1209f85bb588",
   "metadata": {},
   "source": [
    "In Decision Tree Algorithms, Information Gain is used to select the most informative feature to split the data at each node, aiming to Improve Classification Accuracy and reduce Uncertainity.<br>\n",
    "The Feature with the highest information gain is used to split the data, this leads to better accuracy and less overfitting."
   ]
  },
  {
   "cell_type": "markdown",
   "id": "7f22f351-71ae-4692-bff3-4b392f5f1fc3",
   "metadata": {},
   "source": [
    "## Tree Building Algorithm"
   ]
  },
  {
   "cell_type": "markdown",
   "id": "ba12649e-1199-44e4-89fd-0ed9fb805aec",
   "metadata": {},
   "source": [
    "Popular Decision Tree Algorithms such as \"ID3\" or \"C4.5\" contain the principle of \"Greedy Maximization of Information Gain\", This means the Algorithm chooses the option/path with best probability to result in the most optimal solution."
   ]
  },
  {
   "cell_type": "markdown",
   "id": "26406bed-d0ae-4541-b39b-286ed1bc0676",
   "metadata": {},
   "source": [
    "The procedure is repeated recursively until the entropy is zero(or some small value).<br>\n",
    "Other Algorithms use thode concept of \"early stopping\" or \"cut off\" just to avoid overfitting."
   ]
  },
  {
   "cell_type": "markdown",
   "id": "ba46308c-f2fb-4664-9ef0-87e1ed1531d6",
   "metadata": {},
   "source": [
    "Let us see how the trees look themselves, We will try to seperate two classes by training an \"Sklear\" Decision Tree, using its \"Max Depth\" parameter that limits the depth of the tree."
   ]
  },
  {
   "cell_type": "code",
   "execution_count": 3,
   "id": "7dbbea16-f604-4d19-aa78-4a79c20f5832",
   "metadata": {},
   "outputs": [],
   "source": [
    "from sklearn.tree import DecisionTreeClassifier\n",
    "\n",
    "def get_grid(data):\n",
    "    x_min, x_max = data[:, 0].min() - 1, data[:,0].max() + 1\n",
    "    y_min, y_max = data[:, 1].min() - 1, data[:,1].max() + 1\n",
    "\n",
    "    return np.meshgrid(np.arange(x_min, x_max, 0.01), np.arange(y_min, y_max, 0.01))\n",
    "\n",
    "clf_tree = DecisionTreeClassifier(criterion=\"entropy\", max_depth = 3, random_state = 17)"
   ]
  },
  {
   "cell_type": "markdown",
   "id": "17424bbe-83bd-4df3-9cb2-8254491f531e",
   "metadata": {},
   "source": [
    "For analysing data, we will have to get some first, in this case we will be working with artificial data created by random seeds."
   ]
  },
  {
   "cell_type": "code",
   "execution_count": 4,
   "id": "ddecbe82-4ea8-4534-aead-b95cccb47e5b",
   "metadata": {},
   "outputs": [],
   "source": [
    "##first class\n",
    "np.random.seed(17)\n",
    "train_data = np.random.normal(size=(100,2))\n",
    "train_lables = np.zeros(100)\n",
    "\n",
    "#Seond Class\n",
    "train_data = np.r_[train_data, np.random.normal(size=(100,2), loc = 2)]\n",
    "train_lables = np.r_[train_lables, np.ones(100)]"
   ]
  },
  {
   "cell_type": "markdown",
   "id": "12d31b55-65e1-4c1a-b75e-fd47c7c431f5",
   "metadata": {},
   "source": [
    "To visualize this, we can use plots."
   ]
  },
  {
   "cell_type": "code",
   "execution_count": 5,
   "id": "1e064e16-99d5-4926-98b8-d3c49fd94554",
   "metadata": {},
   "outputs": [],
   "source": [
    "import matplotlib.pyplot as plt"
   ]
  },
  {
   "cell_type": "code",
   "execution_count": 8,
   "id": "c91b6f01-7541-4ae0-b951-8f9a17fcf2ee",
   "metadata": {},
   "outputs": [
    {
     "data": {
      "text/plain": [
       "[<matplotlib.lines.Line2D at 0x29e020f9580>]"
      ]
     },
     "execution_count": 8,
     "metadata": {},
     "output_type": "execute_result"
    },
    {
     "data": {
      "image/png": "[encoded data removed]",
      "text/plain": [
       "<Figure size 1000x800 with 1 Axes>"
      ]
     },
     "metadata": {},
     "output_type": "display_data"
    }
   ],
   "source": [
    "plt.figure(figsize=(10,8))\n",
    "plt.scatter(\n",
    "    train_data[:,0],\n",
    "    train_data[:,1],\n",
    "    c=train_lables,\n",
    "    s=1,\n",
    "    cmap=\"autumn\",\n",
    "    edgecolors=\"black\",\n",
    "    linewidths=1.5\n",
    ")\n",
    "plt.plot(range(-2,5), range(4,-3,-1))"
   ]
  },
  {
   "cell_type": "code",
   "execution_count": 6,
   "id": "7c00cf4e-a30f-4a98-a295-4ffbfc9241a0",
   "metadata": {},
   "outputs": [
    {
     "data": {
      "text/plain": [
       "<matplotlib.collections.PathCollection at 0x2d2bb69a7e0>"
      ]
     },
     "execution_count": 6,
     "metadata": {},
     "output_type": "execute_result"
    },
    {
     "data": {
      "image/png": "[encoded data removed]",
      "text/plain": [
       "<Figure size 640x480 with 1 Axes>"
      ]
     },
     "metadata": {},
     "output_type": "display_data"
    }
   ],
   "source": [
    "##training the data\n",
    "\n",
    "clf_tree.fit(train_data, train_lables)\n",
    "\n",
    "#code to seperate surfaces\n",
    "\n",
    "xx, yy = get_grid(train_data)\n",
    "predicted = clf_tree.predict(np.c_[xx.ravel(), yy.ravel()]).reshape(xx.shape)\n",
    "plt.pcolormesh(xx, yy, predicted, cmap=\"autumn\")\n",
    "plt.scatter(\n",
    "    train_data[:,0],\n",
    "    train_data[:,1],\n",
    "    c=train_lables,\n",
    "    s=100,\n",
    "    cmap=\"autumn\",\n",
    "    edgecolors=\"black\",\n",
    "    linewidths=1.5\n",
    ")"
   ]
  },
  {
   "cell_type": "markdown",
   "id": "17f3501b-3e0a-474f-93f3-65cf0f64702c",
   "metadata": {},
   "source": [
    "Now, we can proceed in drawing the \"Trees\""
   ]
  },
  {
   "cell_type": "code",
   "execution_count": 28,
   "id": "6e901091-b516-4b1e-9cb0-81072b41d14e",
   "metadata": {},
   "outputs": [],
   "source": [
    "import pydotplus\n",
    "from sklearn.tree import export_graphviz\n",
    "\n",
    "def tree_graph_png(tree, feature_names, pngtofilesave):\n",
    "    tree_str = export_graphviz(tree, feature_names=feature_names, filled=True, out_file=None)\n",
    "    graph = pydotplus.graph_from_dot_data(tree_str)\n",
    "    graph.write_png(pngtofilesave)"
   ]
  },
  {
   "cell_type": "markdown",
   "id": "8fc753a7-340e-491a-bfb9-9af1bbbaa038",
   "metadata": {},
   "source": [
    "In this Function, we can input our trained data(classification tree model)"
   ]
  },
  {
   "cell_type": "code",
   "execution_count": 34,
   "id": "51d0d8f1-c5c3-4905-892b-54558bb1c829",
   "metadata": {},
   "outputs": [],
   "source": [
    "# tree_graph_png(tree=clf_tree, feature_names=[\"x1\", \"x2\"], pngtofilesave=\"FirstDecisionTrese.png\")"
   ]
  },
  {
   "cell_type": "markdown",
   "id": "329c6349-4147-45cc-bfd6-cfd770c6c44a",
   "metadata": {},
   "source": [
    "Make sure to have <a href=\"https://graphviz.org/\">Graphviz</a> Installed before running these."
   ]
  },
  {
   "cell_type": "markdown",
   "id": "cfb7f26c-f258-4b20-a6b2-d538b29d13c2",
   "metadata": {},
   "source": [
    "<img src=\"DecTree.png\"></img>"
   ]
  },
  {
   "cell_type": "markdown",
   "id": "df92fd6d-ba32-4492-8b5d-2b630484baa6",
   "metadata": {},
   "source": [
    "### How to Read a Decision Tree."
   ]
  },
  {
   "cell_type": "markdown",
   "id": "8391c58b-932d-4e0a-82f4-016554c2c235",
   "metadata": {},
   "source": [
    "Starting off with the first cell, We come to know there were 200 Instances(inside Sample) contained in 2 classes(as seen from [100, 100]). This cell also has the highest entropy of S = 1(Entropy is measured between 0 to 1 here) <br>\n",
    "After the first partition, 2 Cells were made once compared by \"x<sub>2</sub>\" with 1.211, along with the partition, the entropy of each cell reduces and so did the sample count for each Case(Notice the sum of \"values\" on every depth of Decision Tree is always equal to the original number of sample of data we started off with, this makes sure that no data has been lost in between).<br>\n",
    "\n",
    "The Algorithm goes to a Depth of \"3\", Notice, How in all cases where the value of Class 1 is greater than that of Sample 2, Colour of Cell is \"More Orange\", and for the cells where Class 2 gains higher count, the Color is \"More Blue\" (Or Darker shades of respective Colors).\n"
   ]
  },
  {
   "cell_type": "markdown",
   "id": "4c80f306-d2fe-488d-b53a-a407c8218bd4",
   "metadata": {},
   "source": [
    "### How a Decision Tree Works with Numerical Features."
   ]
  },
  {
   "cell_type": "markdown",
   "id": "1ff75ef1-3aec-4fa2-b237-e74372823fd1",
   "metadata": {},
   "source": [
    "For this Block, I will be using the same example of \"Age vs Loan Default\" for explaination."
   ]
  },
  {
   "cell_type": "markdown",
   "id": "6df0749d-9aa2-49a3-a5e7-46cdc5688b80",
   "metadata": {},
   "source": [
    "When it comes to using a Classification Algorithm(like a Decision Tree), The Algorithm always splits the data in such a way that it gets the best Information Gain(based on any Criterion). So, when working with real world samples such as \"Age\" and the probability of that person getting a \"Loan\" there have to be multiple possible unique values, these are the values that Algorithm will be checking for the best split, Say comparing \"Age\" feature for binary Attributes like is \"Age > 18\" or \"Age >= Mean(Age)\", etc.<br>\n",
    "There can also be multiple Quantitative Variables, In this case where loans have to be paid by the Individual, \"Salary\" can be an important factor."
   ]
  },
  {
   "cell_type": "markdown",
   "id": "f3d8180d-930e-4b08-914a-4fcfd2df08ac",
   "metadata": {},
   "source": [
    "In order to limit the number of thresholds to which we compare the quantitative variables, Heuristics are used."
   ]
  },
  {
   "cell_type": "code",
   "execution_count": 36,
   "id": "da6a7362-b979-48bb-8f3c-aafd17ac0300",
   "metadata": {},
   "outputs": [
    {
     "data": {
      "text/html": [
       "<div>\n",
       "<style scoped>\n",
       "    .dataframe tbody tr th:only-of-type {\n",
       "        vertical-align: middle;\n",
       "    }\n",
       "\n",
       "    .dataframe tbody tr th {\n",
       "        vertical-align: top;\n",
       "    }\n",
       "\n",
       "    .dataframe thead th {\n",
       "        text-align: right;\n",
       "    }\n",
       "</style>\n",
       "<table border=\"1\" class=\"dataframe\">\n",
       "  <thead>\n",
       "    <tr style=\"text-align: right;\">\n",
       "      <th></th>\n",
       "      <th>Age</th>\n",
       "      <th>Loan Default</th>\n",
       "    </tr>\n",
       "  </thead>\n",
       "  <tbody>\n",
       "    <tr>\n",
       "      <th>0</th>\n",
       "      <td>17</td>\n",
       "      <td>1</td>\n",
       "    </tr>\n",
       "    <tr>\n",
       "      <th>1</th>\n",
       "      <td>64</td>\n",
       "      <td>0</td>\n",
       "    </tr>\n",
       "    <tr>\n",
       "      <th>2</th>\n",
       "      <td>18</td>\n",
       "      <td>1</td>\n",
       "    </tr>\n",
       "    <tr>\n",
       "      <th>3</th>\n",
       "      <td>20</td>\n",
       "      <td>0</td>\n",
       "    </tr>\n",
       "    <tr>\n",
       "      <th>4</th>\n",
       "      <td>38</td>\n",
       "      <td>1</td>\n",
       "    </tr>\n",
       "    <tr>\n",
       "      <th>5</th>\n",
       "      <td>49</td>\n",
       "      <td>0</td>\n",
       "    </tr>\n",
       "    <tr>\n",
       "      <th>6</th>\n",
       "      <td>55</td>\n",
       "      <td>0</td>\n",
       "    </tr>\n",
       "    <tr>\n",
       "      <th>7</th>\n",
       "      <td>25</td>\n",
       "      <td>1</td>\n",
       "    </tr>\n",
       "    <tr>\n",
       "      <th>8</th>\n",
       "      <td>29</td>\n",
       "      <td>1</td>\n",
       "    </tr>\n",
       "    <tr>\n",
       "      <th>9</th>\n",
       "      <td>31</td>\n",
       "      <td>0</td>\n",
       "    </tr>\n",
       "    <tr>\n",
       "      <th>10</th>\n",
       "      <td>33</td>\n",
       "      <td>1</td>\n",
       "    </tr>\n",
       "  </tbody>\n",
       "</table>\n",
       "</div>"
      ],
      "text/plain": [
       "    Age  Loan Default\n",
       "0    17             1\n",
       "1    64             0\n",
       "2    18             1\n",
       "3    20             0\n",
       "4    38             1\n",
       "5    49             0\n",
       "6    55             0\n",
       "7    25             1\n",
       "8    29             1\n",
       "9    31             0\n",
       "10   33             1"
      ]
     },
     "execution_count": 36,
     "metadata": {},
     "output_type": "execute_result"
    }
   ],
   "source": [
    "# Consider this being a real dataset with Age and Loan Default Featues.\n",
    "\n",
    "data = pd.DataFrame(\n",
    "    {\n",
    "        \"Age\": [17, 64, 18, 20, 38, 49, 55, 25, 29, 31, 33],\n",
    "        \"Loan Default\": [1, 0, 1, 0, 1, 0, 0, 1, 1, 0, 1],\n",
    "    }\n",
    ")\n",
    "\n",
    "data"
   ]
  },
  {
   "cell_type": "code",
   "execution_count": 37,
   "id": "04b2f8eb-ccde-46b2-829e-5e5829701a61",
   "metadata": {},
   "outputs": [
    {
     "data": {
      "text/html": [
       "<div>\n",
       "<style scoped>\n",
       "    .dataframe tbody tr th:only-of-type {\n",
       "        vertical-align: middle;\n",
       "    }\n",
       "\n",
       "    .dataframe tbody tr th {\n",
       "        vertical-align: top;\n",
       "    }\n",
       "\n",
       "    .dataframe thead th {\n",
       "        text-align: right;\n",
       "    }\n",
       "</style>\n",
       "<table border=\"1\" class=\"dataframe\">\n",
       "  <thead>\n",
       "    <tr style=\"text-align: right;\">\n",
       "      <th></th>\n",
       "      <th>Age</th>\n",
       "      <th>Loan Default</th>\n",
       "    </tr>\n",
       "  </thead>\n",
       "  <tbody>\n",
       "    <tr>\n",
       "      <th>0</th>\n",
       "      <td>17</td>\n",
       "      <td>1</td>\n",
       "    </tr>\n",
       "    <tr>\n",
       "      <th>2</th>\n",
       "      <td>18</td>\n",
       "      <td>1</td>\n",
       "    </tr>\n",
       "    <tr>\n",
       "      <th>3</th>\n",
       "      <td>20</td>\n",
       "      <td>0</td>\n",
       "    </tr>\n",
       "    <tr>\n",
       "      <th>7</th>\n",
       "      <td>25</td>\n",
       "      <td>1</td>\n",
       "    </tr>\n",
       "    <tr>\n",
       "      <th>8</th>\n",
       "      <td>29</td>\n",
       "      <td>1</td>\n",
       "    </tr>\n",
       "    <tr>\n",
       "      <th>9</th>\n",
       "      <td>31</td>\n",
       "      <td>0</td>\n",
       "    </tr>\n",
       "    <tr>\n",
       "      <th>10</th>\n",
       "      <td>33</td>\n",
       "      <td>1</td>\n",
       "    </tr>\n",
       "    <tr>\n",
       "      <th>4</th>\n",
       "      <td>38</td>\n",
       "      <td>1</td>\n",
       "    </tr>\n",
       "    <tr>\n",
       "      <th>5</th>\n",
       "      <td>49</td>\n",
       "      <td>0</td>\n",
       "    </tr>\n",
       "    <tr>\n",
       "      <th>6</th>\n",
       "      <td>55</td>\n",
       "      <td>0</td>\n",
       "    </tr>\n",
       "    <tr>\n",
       "      <th>1</th>\n",
       "      <td>64</td>\n",
       "      <td>0</td>\n",
       "    </tr>\n",
       "  </tbody>\n",
       "</table>\n",
       "</div>"
      ],
      "text/plain": [
       "    Age  Loan Default\n",
       "0    17             1\n",
       "2    18             1\n",
       "3    20             0\n",
       "7    25             1\n",
       "8    29             1\n",
       "9    31             0\n",
       "10   33             1\n",
       "4    38             1\n",
       "5    49             0\n",
       "6    55             0\n",
       "1    64             0"
      ]
     },
     "execution_count": 37,
     "metadata": {},
     "output_type": "execute_result"
    }
   ],
   "source": [
    "data.sort_values(by=\"Age\")"
   ]
  },
  {
   "cell_type": "code",
   "execution_count": 39,
   "id": "4d9f2680-6081-4b2e-8adb-d42f71e03d61",
   "metadata": {},
   "outputs": [],
   "source": [
    "# age_tree = DecisionTreeClassifier(random_state=17)\n",
    "# age_tree.fit(data[\"Age\"].values.reshape(-1, 1), data[\"Loan Default\"].values)\n",
    "\n",
    "# tree_graph_png(\n",
    "#     age_tree,\n",
    "#     feature_names=[\"Age\"],\n",
    "#     pngtofilesave=\"topic3_decision_tree2.png\",\n",
    "# )"
   ]
  },
  {
   "cell_type": "markdown",
   "id": "65761a51-3d88-4246-8993-7ef15d5f395b",
   "metadata": {},
   "source": [
    "Natuarally, the above cell shall give the following Tree.<br>\n",
    "<img src=\"AgeTree.png\"></img>"
   ]
  },
  {
   "cell_type": "markdown",
   "id": "3544cd0f-f2fe-4eb0-b025-465389fb21b2",
   "metadata": {},
   "source": [
    "When Observed, There are total 5 Splits at Age = 43.5, 19, 22.5, 30, 32 and 0.<br>\n",
    "These Splits are made based on the least Gini Impurity and best case for our sample. The splits can be explained like:<br>\n",
    "1. Note that there are total 11 samples in our DataSet, 5 - Class 0, 6 - Class 1 (Remember, values=[Available Class 0, Available Class 1]). The First Split happens at mean position(4th, 5th) at Age 38 and 49.\n",
    "2. First Split resulted in 2 Cases, For \"Age <= 43.5\" == False, Hence Age > 45, No Person Exists that has returned their Loan(Check Sorted DataFrame, After Age 38, All are 0's) Hence resulting in a Pure Node.\n",
    "3. For Age <= 19, we have 2 Splits since More Samples are still present and Either or the Values(values = []) are not 0(Hence, not a pure node.), One, Resuling in a Pure Node, Since the People of Age 17 and 18 have paid there Loan's. On the other hand;\n",
    "4. We check for People with Age <= 22.5, We see a Pure Node since Only Person with Age 20(Less than 22.5) has not paid their loan, others Have, and we come to People with Age <= 30;\n",
    "5. The Split at Age = 30 was made since, it was minimizing the gini impurity. On the left(Tree Node) we see another Pure Node, all people below Age 30 and Above 22.5 (Since we do not have to consider the people that have been a part of our previous node) have paid their Loan.\n",
    "6. Coming to Another Split at Age 32, We see that People between range 30 < Age <= 32 the only person fitting in this category has also paid his Loan and For the People that are Older than 32 yet younger than 43.5(Remember, Do not Include Age band that has been included in a prior node) None of the People have paid their Loan, Hence the value of [0, 2]."
   ]
  },
  {
   "cell_type": "markdown",
   "id": "794b5cee-04cf-44da-b424-e32043c9626e",
   "metadata": {},
   "source": [
    "Let us go with a more complex example using \"Salary\" variable in the DataSet as well. Salary is in thousands of Dollars/year."
   ]
  },
  {
   "cell_type": "code",
   "execution_count": 7,
   "id": "8229382b-0f14-44ed-a3bb-eb3407eb0b12",
   "metadata": {},
   "outputs": [
    {
     "data": {
      "text/html": [
       "<div>\n",
       "<style scoped>\n",
       "    .dataframe tbody tr th:only-of-type {\n",
       "        vertical-align: middle;\n",
       "    }\n",
       "\n",
       "    .dataframe tbody tr th {\n",
       "        vertical-align: top;\n",
       "    }\n",
       "\n",
       "    .dataframe thead th {\n",
       "        text-align: right;\n",
       "    }\n",
       "</style>\n",
       "<table border=\"1\" class=\"dataframe\">\n",
       "  <thead>\n",
       "    <tr style=\"text-align: right;\">\n",
       "      <th></th>\n",
       "      <th>Age</th>\n",
       "      <th>Salary</th>\n",
       "      <th>Loan Default</th>\n",
       "    </tr>\n",
       "  </thead>\n",
       "  <tbody>\n",
       "    <tr>\n",
       "      <th>0</th>\n",
       "      <td>17</td>\n",
       "      <td>25</td>\n",
       "      <td>1</td>\n",
       "    </tr>\n",
       "    <tr>\n",
       "      <th>1</th>\n",
       "      <td>64</td>\n",
       "      <td>80</td>\n",
       "      <td>0</td>\n",
       "    </tr>\n",
       "    <tr>\n",
       "      <th>2</th>\n",
       "      <td>18</td>\n",
       "      <td>22</td>\n",
       "      <td>1</td>\n",
       "    </tr>\n",
       "    <tr>\n",
       "      <th>3</th>\n",
       "      <td>20</td>\n",
       "      <td>36</td>\n",
       "      <td>0</td>\n",
       "    </tr>\n",
       "    <tr>\n",
       "      <th>4</th>\n",
       "      <td>38</td>\n",
       "      <td>37</td>\n",
       "      <td>1</td>\n",
       "    </tr>\n",
       "    <tr>\n",
       "      <th>5</th>\n",
       "      <td>49</td>\n",
       "      <td>59</td>\n",
       "      <td>0</td>\n",
       "    </tr>\n",
       "    <tr>\n",
       "      <th>6</th>\n",
       "      <td>55</td>\n",
       "      <td>74</td>\n",
       "      <td>0</td>\n",
       "    </tr>\n",
       "    <tr>\n",
       "      <th>7</th>\n",
       "      <td>25</td>\n",
       "      <td>70</td>\n",
       "      <td>1</td>\n",
       "    </tr>\n",
       "    <tr>\n",
       "      <th>8</th>\n",
       "      <td>29</td>\n",
       "      <td>33</td>\n",
       "      <td>1</td>\n",
       "    </tr>\n",
       "    <tr>\n",
       "      <th>9</th>\n",
       "      <td>31</td>\n",
       "      <td>102</td>\n",
       "      <td>0</td>\n",
       "    </tr>\n",
       "    <tr>\n",
       "      <th>10</th>\n",
       "      <td>33</td>\n",
       "      <td>88</td>\n",
       "      <td>1</td>\n",
       "    </tr>\n",
       "  </tbody>\n",
       "</table>\n",
       "</div>"
      ],
      "text/plain": [
       "    Age  Salary  Loan Default\n",
       "0    17      25             1\n",
       "1    64      80             0\n",
       "2    18      22             1\n",
       "3    20      36             0\n",
       "4    38      37             1\n",
       "5    49      59             0\n",
       "6    55      74             0\n",
       "7    25      70             1\n",
       "8    29      33             1\n",
       "9    31     102             0\n",
       "10   33      88             1"
      ]
     },
     "execution_count": 7,
     "metadata": {},
     "output_type": "execute_result"
    }
   ],
   "source": [
    "data2 = pd.DataFrame(\n",
    "    {\n",
    "        \"Age\": [17, 64, 18, 20, 38, 49, 55, 25, 29, 31, 33],\n",
    "        \"Salary\": [25, 80, 22, 36, 37, 59, 74, 70, 33, 102, 88],\n",
    "        \"Loan Default\": [1, 0, 1, 0, 1, 0, 0, 1, 1, 0, 1],\n",
    "    }\n",
    ")\n",
    "data2"
   ]
  },
  {
   "cell_type": "code",
   "execution_count": 10,
   "id": "fd40e025-0489-4b52-8c6b-6911575fdd0c",
   "metadata": {},
   "outputs": [
    {
     "data": {
      "text/html": [
       "<div>\n",
       "<style scoped>\n",
       "    .dataframe tbody tr th:only-of-type {\n",
       "        vertical-align: middle;\n",
       "    }\n",
       "\n",
       "    .dataframe tbody tr th {\n",
       "        vertical-align: top;\n",
       "    }\n",
       "\n",
       "    .dataframe thead th {\n",
       "        text-align: right;\n",
       "    }\n",
       "</style>\n",
       "<table border=\"1\" class=\"dataframe\">\n",
       "  <thead>\n",
       "    <tr style=\"text-align: right;\">\n",
       "      <th></th>\n",
       "      <th>Age</th>\n",
       "      <th>Salary</th>\n",
       "      <th>Loan Default</th>\n",
       "    </tr>\n",
       "  </thead>\n",
       "  <tbody>\n",
       "    <tr>\n",
       "      <th>2</th>\n",
       "      <td>18</td>\n",
       "      <td>22</td>\n",
       "      <td>1</td>\n",
       "    </tr>\n",
       "    <tr>\n",
       "      <th>0</th>\n",
       "      <td>17</td>\n",
       "      <td>25</td>\n",
       "      <td>1</td>\n",
       "    </tr>\n",
       "    <tr>\n",
       "      <th>8</th>\n",
       "      <td>29</td>\n",
       "      <td>33</td>\n",
       "      <td>1</td>\n",
       "    </tr>\n",
       "    <tr>\n",
       "      <th>3</th>\n",
       "      <td>20</td>\n",
       "      <td>36</td>\n",
       "      <td>0</td>\n",
       "    </tr>\n",
       "    <tr>\n",
       "      <th>4</th>\n",
       "      <td>38</td>\n",
       "      <td>37</td>\n",
       "      <td>1</td>\n",
       "    </tr>\n",
       "    <tr>\n",
       "      <th>5</th>\n",
       "      <td>49</td>\n",
       "      <td>59</td>\n",
       "      <td>0</td>\n",
       "    </tr>\n",
       "    <tr>\n",
       "      <th>7</th>\n",
       "      <td>25</td>\n",
       "      <td>70</td>\n",
       "      <td>1</td>\n",
       "    </tr>\n",
       "    <tr>\n",
       "      <th>6</th>\n",
       "      <td>55</td>\n",
       "      <td>74</td>\n",
       "      <td>0</td>\n",
       "    </tr>\n",
       "    <tr>\n",
       "      <th>1</th>\n",
       "      <td>64</td>\n",
       "      <td>80</td>\n",
       "      <td>0</td>\n",
       "    </tr>\n",
       "    <tr>\n",
       "      <th>10</th>\n",
       "      <td>33</td>\n",
       "      <td>88</td>\n",
       "      <td>1</td>\n",
       "    </tr>\n",
       "    <tr>\n",
       "      <th>9</th>\n",
       "      <td>31</td>\n",
       "      <td>102</td>\n",
       "      <td>0</td>\n",
       "    </tr>\n",
       "  </tbody>\n",
       "</table>\n",
       "</div>"
      ],
      "text/plain": [
       "    Age  Salary  Loan Default\n",
       "2    18      22             1\n",
       "0    17      25             1\n",
       "8    29      33             1\n",
       "3    20      36             0\n",
       "4    38      37             1\n",
       "5    49      59             0\n",
       "7    25      70             1\n",
       "6    55      74             0\n",
       "1    64      80             0\n",
       "10   33      88             1\n",
       "9    31     102             0"
      ]
     },
     "execution_count": 10,
     "metadata": {},
     "output_type": "execute_result"
    }
   ],
   "source": [
    "data2.sort_values(by=\"Salary\")"
   ]
  },
  {
   "cell_type": "markdown",
   "id": "6565f2bb-0566-4267-82e7-1c2a0a91640d",
   "metadata": {},
   "source": [
    "If noticed, Here, when the data is sorted by \"Salary\" the number of switches(Between Classes being state of 1, 0) are 7 times, Whereas, When sorting by \"Age\" gave us 5.<br>\n",
    "\n",
    "Let us Fit this data into Decision Tree."
   ]
  },
  {
   "cell_type": "code",
   "execution_count": null,
   "id": "f28dcac5-92e2-459f-9a82-3e77c3e87702",
   "metadata": {},
   "outputs": [],
   "source": [
    "sal_tree = DecisionTreeClassifier(random_state=17)\n",
    "sal_tree.fit(data2[[\"Age\", \"Salary\"]].values, data2[\"Loan Default\"].values)"
   ]
  },
  {
   "cell_type": "markdown",
   "id": "306c36fd-c81c-4720-8a83-aa4fa138d24d",
   "metadata": {},
   "source": [
    "<img src=\"AgeSalaryTree.png\"></img>"
   ]
  },
  {
   "cell_type": "markdown",
   "id": "6f5bac78-ffd8-4a46-88c2-ed5b925d8ebc",
   "metadata": {},
   "source": [
    "\"We see that the tree partitioned by both salary and age. Moreover, the thresholds for feature comparisons are 43.5 and 22.5 years of age and 95k and 30.5k per year. Again, we see that 95 is the average between 88 and 102; the individual with a salary of 88k proved to be \"bad\" while the one with 102k was \"good\". The same goes for 30.5k. That is, only a few values for comparisons by age and salary were searched. Why did the tree choose these features? Because they gave better partitioning (according to Gini uncertainty).\""
   ]
  },
  {
   "cell_type": "markdown",
   "id": "b0c25890-7f0b-41fa-bf75-aa98221eda67",
   "metadata": {},
   "source": [
    "\"Conclusion: the simplest heuristics for handling numeric features in a decision tree is to sort its values in ascending order and check only those thresholds where the value of the target variable changes.\""
   ]
  },
  {
   "cell_type": "markdown",
   "id": "3a0d6247-4deb-4ef4-9464-56f86117b330",
   "metadata": {},
   "source": [
    "When dealing with multiple numeric features containing lots of unique values, Go for the \"Top-N\" thresholds, these are the one's that result in maximum gain.<br>\n",
    "To Select the best Thresholds:<br>\n",
    "1. Construct a Tree of Depth 1.\n",
    "2. Compute Entropy or Gini Uncertainity and Select the Best Comparisons."
   ]
  },
  {
   "cell_type": "markdown",
   "id": "d4612c57-347e-4193-bbfb-0f9eb68e63ac",
   "metadata": {},
   "source": [
    "## Parameters Involved."
   ]
  },
  {
   "cell_type": "markdown",
   "id": "da7d2df4-de8a-4864-9d2b-3a52e607b0ae",
   "metadata": {},
   "source": [
    "When it comes to building a Decision Tree, Every Tree can be build such that there is only a Single Instance Available Hence Creating a Pure Node, but doing this the tree will become \"Overfitted\" and hence, not be able to predict labels for new data.<br>\n",
    "\n",
    "This Results in the model becoming too finely tuned to the training data and not being able to generate generalized trends. This leads to poor performace when showed to Unseen or New data."
   ]
  },
  {
   "cell_type": "markdown",
   "id": "352da4b6-74e0-47fd-b692-7a856174420a",
   "metadata": {},
   "source": [
    "In the Traffic Accident DataSet, If our model were to be overfitted, even features(say these were present) such as which colour shoes did the person wear, etc will lead to a False Outcome."
   ]
  },
  {
   "cell_type": "markdown",
   "id": "57c45768-bf9c-4324-b932-66d84ae10a72",
   "metadata": {},
   "source": [
    "To avoid this, Usually the Tree is either Pruned Before hand or After the Tree is Created.<br>\n",
    "1. Pre-Pruning: Avoiding Tree to go to a higher Depth(Pre Define Max Depth).\n",
    "2. Post-Pruning: After the Tree has been Generated, Remove all Nodes(Depth by Depth) that do not further Contribute to the Situation."
   ]
  },
  {
   "cell_type": "markdown",
   "id": "54406e77-11fb-4f43-89bb-d63748d139c3",
   "metadata": {},
   "source": [
    "There is an Algorithm(Based on Decision Trees) that helps reduce overfitting and perform well in both Classification and Regression tasks = Random Forest."
   ]
  },
  {
   "cell_type": "markdown",
   "id": "a64e8d71-e81c-466a-89ca-cb0c36292594",
   "metadata": {},
   "source": [
    "### Random Forest"
   ]
  },
  {
   "cell_type": "markdown",
   "id": "342a853e-b519-47ee-9a66-f8cb793a1afc",
   "metadata": {},
   "source": [
    "An Algorithm which goes to the Maximum Depth for a Decision Tree, Where The Algorithm Creates \"Multiple\" Decision Trees and Creates a \"Forest\" for them. Each being a random subset of the Training DataSet. Moreover, When Splitting nodes, It considers a random subset of features rather than going for All Featuers."
   ]
  },
  {
   "cell_type": "markdown",
   "id": "809e4dd1-ae0e-4395-aae1-f539e691082d",
   "metadata": {},
   "source": [
    "The Algorithm works well with both:<br>\n",
    "1. Classification: Each tree votes for a class and The Forest Selects the Class with most Votes.\n",
    "2. Regression: Forest Averages the outputs of all trees to produce the Final Prediction.\n",
    "<br>\n",
    "This randomness also reduces Correlation between trees. Improving Generalization and Reducing Overfitting of Data.<br>\n",
    "\n",
    "Although, these come with a cost of computation time and resources. When Compared to a Single tree, these are slower to train as well."
   ]
  },
  {
   "cell_type": "markdown",
   "id": "097aa232-3a84-4ed1-99c6-7c635a8b17d0",
   "metadata": {},
   "source": [
    "## DecisionTreeClassifier in Scikit-learn"
   ]
  },
  {
   "cell_type": "markdown",
   "id": "f964667c-78aa-4576-a4ee-a4da2e6dfa4b",
   "metadata": {},
   "source": [
    "This Class has the following important parameters:<br>\n",
    "1. max_depth - Maximum Depth of a Tree.\n",
    "2. max_features - Limits the number of Features to use for searching the Best Split(Necessary, Since looking for Each Feature in A Large DataSet will be very expensive).\n",
    "3. min_samples_leaf - Set's the minimum Number of Samples alloted to a leaf, this prevents early exhaustion of samples before reaching a higher depth."
   ]
  },
  {
   "cell_type": "markdown",
   "id": "306ebfbc-8aab-4dbe-99c8-641d802a5a76",
   "metadata": {},
   "source": [
    "## Decision Trees in Regression."
   ]
  },
  {
   "cell_type": "markdown",
   "id": "2f5f710b-e958-4884-a30b-6859cad0a62e",
   "metadata": {},
   "source": [
    "When predicting a numeric variable, The idea of tree construction remains the same but, the quality criteria changes to \"Variance\" instead of previously worked \"Entropy\"(or \"Gini Impurity\", etc).\n",
    "\n",
    "<img src=\"variance.png\"></img><br>\n",
    "Here, \"l\" is the number of samples in a leaf and y<sub>i</sub> is the value of Target Variable.<br>\n",
    "\n",
    "Minimizing the Variance will result in Every Leaf roughly giving an equal result."
   ]
  },
  {
   "cell_type": "markdown",
   "id": "1e46d6e6-1823-42d1-bc1c-62b618a753d1",
   "metadata": {},
   "source": [
    "- The Picture was also taken From <a href=\"https://www.kaggle.com/code/kashnitsky/topic-3-decision-trees-and-knn#3.-Nearest-Neighbors-Method\">Yuri Sir's Notebook</a> in order to save up on time."
   ]
  },
  {
   "cell_type": "code",
   "execution_count": null,
   "id": "20a9f1a9-71cd-437c-9e17-39287e75769c",
   "metadata": {},
   "outputs": [],
   "source": []
  }
 ],
 "metadata": {
  "kernelspec": {
   "display_name": "Python 3 (ipykernel)",
   "language": "python",
   "name": "python3"
  },
  "language_info": {
   "codemirror_mode": {
    "name": "ipython",
    "version": 3
   },
   "file_extension": ".py",
   "mimetype": "text/x-python",
   "name": "python",
   "nbconvert_exporter": "python",
   "pygments_lexer": "ipython3",
   "version": "3.12.5"
  }
 },
 "nbformat": 4,
 "nbformat_minor": 5
}

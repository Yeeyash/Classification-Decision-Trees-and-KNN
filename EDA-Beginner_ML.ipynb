{
 "cells": [
  {
   "cell_type": "markdown",
   "id": "312b8e2a",
   "metadata": {},
   "source": [
    "# Introduction to Machine Learning with Classification, Decision Trees, KNN and Mathematics."
   ]
  },
  {
   "cell_type": "markdown",
   "id": "279e1828-3a72-461e-9db4-83c3a9c5fb9e",
   "metadata": {},
   "source": [
    "This Notebook is an Addition to the Work already presented (Titled: Visual Data Analysis of Accidents Using Python, NumPy, Pandas, Matplotlib and Seaborn), which was based on How to Implement Python and its Libraries to Visualize a given Dataset and provide an Analysis on it.<br>\n",
    "\n",
    "This notebook will be about my learnings from the article/notebook by <a href=\"https://www.kaggle.com/kashnitsky\">\"Yury Kashnitsky\"</a>, This is going to be put through in a way that every beginner shall get a firm gist of what Machine Learning consists of and the Amount of Learning that it has got to provide.<br>\n",
    "There are going to be a few Sentences/Lines from the Work by Sir Yury gathered via his notebook.<br>\n",
    "\n",
    "The Links and referrals are provided below:<br>\n",
    "\n",
    "Learn Introduction to Machine Learning using Classification, Decision Trees and KNN through Blogs/Notebooks: https://www.kaggle.com/code/kashnitsky/topic-3-decision-trees-and-knn#1.-Introduction <br>\n",
    "Traffic Accidents Dataset: https://www.kaggle.com/datasets/oktayrdeki/traffic-accidents <br>\n",
    "\n",
    "The previous Article covered topic like What is Univariate Visualization, Quantitative and Qualitative Features, Plotting Several types of Graphs using Seaborn and Matplotlib, and more.<br>\n",
    "\n",
    "This time we are going to focus on the basics of Machine Learning types and their Algorithms, More importantly, Understanding the Mathematics behind them and using it alongside our Intuition to come up with Better Results.<br>\n",
    "\n",
    "We also will be using the Go-To library for beginners in Machine Learning: Scikit-learn, all thanks to its Simpicity of Syntax in Python and Implementation of a Variety of Algorithms."
   ]
  },
  {
   "cell_type": "markdown",
   "id": "ae013ff3-0606-47ea-9899-e5aaf29c1829",
   "metadata": {},
   "source": [
    "## Introduction"
   ]
  },
  {
   "cell_type": "markdown",
   "id": "1b0c6633-b5ca-4632-8896-6f7ee1af9c55",
   "metadata": {},
   "source": [
    "This section will be answering a few questions and providing a brief information about questions such as \"What Machine Learning algorithms do?\", \"How do these algorithms differ\", \"Types of Machine Learning Methods.\", etc. "
   ]
  },
  {
   "cell_type": "markdown",
   "id": "7bfaeab5-1074-4810-89c1-2755c67cc263",
   "metadata": {},
   "source": [
    "Sir Yuri goes through the book \"Machine Learning\" (1997) by T. Mitchell showcasing the \"General Definition of Machine Learning\" by:<br>\n",
    "> A Computer Program is said to learn from experience \"E\" with respect to some Class of Tasks \"T\" and Performance Measure \"P\", if its Performance at Tasks in T, as measured by P, Improves with \"E\"."
   ]
  },
  {
   "cell_type": "markdown",
   "id": "2872d4ab-b5fa-4fcf-88ae-96f0a07fc022",
   "metadata": {},
   "source": [
    "The Above Measures/Quantities do mean different outcomes in various context's but when it comes to Machine Learning, the Quanitity \"T\" can refer to:<br>\n",
    "1. Classification: Differentiating Objects based on their Features/Qualities.\n",
    "2. Regression: Prediction of a numerical target feature based on other features of an instance.\n",
    "3. Clustering: Identifing partitions of Instances based on the Features of these instances so that the members within the gorups are more similar to each other than those in the other groups.(Comparing and Creating groups of Similar Data)\n",
    "4. Anomaly Detection: Searching for instances that Differ from rest of the sample or to group of instances, The search can be established by looking for a large difference between the features(Either Quantitative or Qualitative, or both.)<br>\n",
    "\n",
    "There are many more important references and Meanings to this \"T\"."
   ]
  },
  {
   "cell_type": "markdown",
   "id": "0bafb91e-b838-457d-aadd-d0b2f6bfc5d8",
   "metadata": {},
   "source": [
    "The Experience \"E\" Refers to \"Data\", the fundamental pieces over which Analysis, Training, Valiating, Testing, etc is to be done, without Data,  we cannot simply start with any of those.<br>\n",
    "Data, comes in different Shapes and Forms, Most having the general purpose of holding some information to it, When we combine greater chunks of Data and segregate them based on their Qualities we get a <strong>Dataset</strong>.<br>\n",
    "The Qualities based on which the data has been segregated are called \"Features\" and the values residing in these features for any given index is called its \"Instance\"."
   ]
  },
  {
   "cell_type": "markdown",
   "id": "c3e6b358-ab7b-49c4-a3f6-dc9a2b3227e9",
   "metadata": {},
   "source": [
    "Understanding Data, Its Functions and Management(Cleaning, Organizing, Manipulating large portions, etc) are all covered in My First <a href=\"https://github.com/Yeeyash/EDA_Traffic_Accidents\">EDA Notebook</a>"
   ]
  },
  {
   "cell_type": "markdown",
   "id": "65f123da-6a8d-43bc-85ec-e487c2e60918",
   "metadata": {},
   "source": [
    "We can Understand these terms by experimenting with the Dataset itself."
   ]
  },
  {
   "cell_type": "markdown",
   "id": "ad66dceb-88b7-4eb1-82eb-a4907757737c",
   "metadata": {},
   "source": [
    "### Importing Libraries\n",
    "\n",
    "Pandas as pd --> Pandas is used for creating a Dataframe(refferd as \"df\"), manipulating and cleaning of data.\n",
    "\n",
    "NumPy as np --> NumPy(Numerical Python) is a well known library for creating and performing Mathematical functions over Multi-Dimensional Arrays."
   ]
  },
  {
   "cell_type": "code",
   "execution_count": 1,
   "id": "f763acff-fe92-4729-9a18-a97cde5d9ccd",
   "metadata": {},
   "outputs": [],
   "source": [
    "import pandas as pd\n",
    "import numpy as np"
   ]
  },
  {
   "cell_type": "code",
   "execution_count": 2,
   "id": "cc4437bb-031f-40d4-b05e-265b84738387",
   "metadata": {},
   "outputs": [
    {
     "data": {
      "text/html": [
       "<div>\n",
       "<style scoped>\n",
       "    .dataframe tbody tr th:only-of-type {\n",
       "        vertical-align: middle;\n",
       "    }\n",
       "\n",
       "    .dataframe tbody tr th {\n",
       "        vertical-align: top;\n",
       "    }\n",
       "\n",
       "    .dataframe thead th {\n",
       "        text-align: right;\n",
       "    }\n",
       "</style>\n",
       "<table border=\"1\" class=\"dataframe\">\n",
       "  <thead>\n",
       "    <tr style=\"text-align: right;\">\n",
       "      <th></th>\n",
       "      <th>crash_date</th>\n",
       "      <th>traffic_control_device</th>\n",
       "      <th>weather_condition</th>\n",
       "      <th>lighting_condition</th>\n",
       "      <th>first_crash_type</th>\n",
       "      <th>trafficway_type</th>\n",
       "      <th>alignment</th>\n",
       "      <th>roadway_surface_cond</th>\n",
       "      <th>road_defect</th>\n",
       "      <th>crash_type</th>\n",
       "      <th>...</th>\n",
       "      <th>most_severe_injury</th>\n",
       "      <th>injuries_total</th>\n",
       "      <th>injuries_fatal</th>\n",
       "      <th>injuries_incapacitating</th>\n",
       "      <th>injuries_non_incapacitating</th>\n",
       "      <th>injuries_reported_not_evident</th>\n",
       "      <th>injuries_no_indication</th>\n",
       "      <th>crash_hour</th>\n",
       "      <th>crash_day_of_week</th>\n",
       "      <th>crash_month</th>\n",
       "    </tr>\n",
       "  </thead>\n",
       "  <tbody>\n",
       "    <tr>\n",
       "      <th>0</th>\n",
       "      <td>07/29/2023 01:00:00 PM</td>\n",
       "      <td>TRAFFIC SIGNAL</td>\n",
       "      <td>CLEAR</td>\n",
       "      <td>DAYLIGHT</td>\n",
       "      <td>TURNING</td>\n",
       "      <td>NOT DIVIDED</td>\n",
       "      <td>STRAIGHT AND LEVEL</td>\n",
       "      <td>UNKNOWN</td>\n",
       "      <td>UNKNOWN</td>\n",
       "      <td>NO INJURY / DRIVE AWAY</td>\n",
       "      <td>...</td>\n",
       "      <td>NO INDICATION OF INJURY</td>\n",
       "      <td>0.0</td>\n",
       "      <td>0.0</td>\n",
       "      <td>0.0</td>\n",
       "      <td>0.0</td>\n",
       "      <td>0.0</td>\n",
       "      <td>3.0</td>\n",
       "      <td>13</td>\n",
       "      <td>7</td>\n",
       "      <td>7</td>\n",
       "    </tr>\n",
       "    <tr>\n",
       "      <th>1</th>\n",
       "      <td>08/13/2023 12:11:00 AM</td>\n",
       "      <td>TRAFFIC SIGNAL</td>\n",
       "      <td>CLEAR</td>\n",
       "      <td>DARKNESS, LIGHTED ROAD</td>\n",
       "      <td>TURNING</td>\n",
       "      <td>FOUR WAY</td>\n",
       "      <td>STRAIGHT AND LEVEL</td>\n",
       "      <td>DRY</td>\n",
       "      <td>NO DEFECTS</td>\n",
       "      <td>NO INJURY / DRIVE AWAY</td>\n",
       "      <td>...</td>\n",
       "      <td>NO INDICATION OF INJURY</td>\n",
       "      <td>0.0</td>\n",
       "      <td>0.0</td>\n",
       "      <td>0.0</td>\n",
       "      <td>0.0</td>\n",
       "      <td>0.0</td>\n",
       "      <td>2.0</td>\n",
       "      <td>0</td>\n",
       "      <td>1</td>\n",
       "      <td>8</td>\n",
       "    </tr>\n",
       "    <tr>\n",
       "      <th>2</th>\n",
       "      <td>12/09/2021 10:30:00 AM</td>\n",
       "      <td>TRAFFIC SIGNAL</td>\n",
       "      <td>CLEAR</td>\n",
       "      <td>DAYLIGHT</td>\n",
       "      <td>REAR END</td>\n",
       "      <td>T-INTERSECTION</td>\n",
       "      <td>STRAIGHT AND LEVEL</td>\n",
       "      <td>DRY</td>\n",
       "      <td>NO DEFECTS</td>\n",
       "      <td>NO INJURY / DRIVE AWAY</td>\n",
       "      <td>...</td>\n",
       "      <td>NO INDICATION OF INJURY</td>\n",
       "      <td>0.0</td>\n",
       "      <td>0.0</td>\n",
       "      <td>0.0</td>\n",
       "      <td>0.0</td>\n",
       "      <td>0.0</td>\n",
       "      <td>3.0</td>\n",
       "      <td>10</td>\n",
       "      <td>5</td>\n",
       "      <td>12</td>\n",
       "    </tr>\n",
       "    <tr>\n",
       "      <th>3</th>\n",
       "      <td>08/09/2023 07:55:00 PM</td>\n",
       "      <td>TRAFFIC SIGNAL</td>\n",
       "      <td>CLEAR</td>\n",
       "      <td>DAYLIGHT</td>\n",
       "      <td>ANGLE</td>\n",
       "      <td>FOUR WAY</td>\n",
       "      <td>STRAIGHT AND LEVEL</td>\n",
       "      <td>DRY</td>\n",
       "      <td>NO DEFECTS</td>\n",
       "      <td>INJURY AND / OR TOW DUE TO CRASH</td>\n",
       "      <td>...</td>\n",
       "      <td>NONINCAPACITATING INJURY</td>\n",
       "      <td>5.0</td>\n",
       "      <td>0.0</td>\n",
       "      <td>0.0</td>\n",
       "      <td>5.0</td>\n",
       "      <td>0.0</td>\n",
       "      <td>0.0</td>\n",
       "      <td>19</td>\n",
       "      <td>4</td>\n",
       "      <td>8</td>\n",
       "    </tr>\n",
       "    <tr>\n",
       "      <th>4</th>\n",
       "      <td>08/19/2023 02:55:00 PM</td>\n",
       "      <td>TRAFFIC SIGNAL</td>\n",
       "      <td>CLEAR</td>\n",
       "      <td>DAYLIGHT</td>\n",
       "      <td>REAR END</td>\n",
       "      <td>T-INTERSECTION</td>\n",
       "      <td>STRAIGHT AND LEVEL</td>\n",
       "      <td>UNKNOWN</td>\n",
       "      <td>UNKNOWN</td>\n",
       "      <td>NO INJURY / DRIVE AWAY</td>\n",
       "      <td>...</td>\n",
       "      <td>NO INDICATION OF INJURY</td>\n",
       "      <td>0.0</td>\n",
       "      <td>0.0</td>\n",
       "      <td>0.0</td>\n",
       "      <td>0.0</td>\n",
       "      <td>0.0</td>\n",
       "      <td>3.0</td>\n",
       "      <td>14</td>\n",
       "      <td>7</td>\n",
       "      <td>8</td>\n",
       "    </tr>\n",
       "  </tbody>\n",
       "</table>\n",
       "<p>5 rows × 24 columns</p>\n",
       "</div>"
      ],
      "text/plain": [
       "               crash_date traffic_control_device weather_condition  \\\n",
       "0  07/29/2023 01:00:00 PM         TRAFFIC SIGNAL             CLEAR   \n",
       "1  08/13/2023 12:11:00 AM         TRAFFIC SIGNAL             CLEAR   \n",
       "2  12/09/2021 10:30:00 AM         TRAFFIC SIGNAL             CLEAR   \n",
       "3  08/09/2023 07:55:00 PM         TRAFFIC SIGNAL             CLEAR   \n",
       "4  08/19/2023 02:55:00 PM         TRAFFIC SIGNAL             CLEAR   \n",
       "\n",
       "       lighting_condition first_crash_type trafficway_type  \\\n",
       "0                DAYLIGHT          TURNING     NOT DIVIDED   \n",
       "1  DARKNESS, LIGHTED ROAD          TURNING        FOUR WAY   \n",
       "2                DAYLIGHT         REAR END  T-INTERSECTION   \n",
       "3                DAYLIGHT            ANGLE        FOUR WAY   \n",
       "4                DAYLIGHT         REAR END  T-INTERSECTION   \n",
       "\n",
       "            alignment roadway_surface_cond road_defect  \\\n",
       "0  STRAIGHT AND LEVEL              UNKNOWN     UNKNOWN   \n",
       "1  STRAIGHT AND LEVEL                  DRY  NO DEFECTS   \n",
       "2  STRAIGHT AND LEVEL                  DRY  NO DEFECTS   \n",
       "3  STRAIGHT AND LEVEL                  DRY  NO DEFECTS   \n",
       "4  STRAIGHT AND LEVEL              UNKNOWN     UNKNOWN   \n",
       "\n",
       "                         crash_type  ...        most_severe_injury  \\\n",
       "0            NO INJURY / DRIVE AWAY  ...   NO INDICATION OF INJURY   \n",
       "1            NO INJURY / DRIVE AWAY  ...   NO INDICATION OF INJURY   \n",
       "2            NO INJURY / DRIVE AWAY  ...   NO INDICATION OF INJURY   \n",
       "3  INJURY AND / OR TOW DUE TO CRASH  ...  NONINCAPACITATING INJURY   \n",
       "4            NO INJURY / DRIVE AWAY  ...   NO INDICATION OF INJURY   \n",
       "\n",
       "  injuries_total injuries_fatal  injuries_incapacitating  \\\n",
       "0            0.0            0.0                      0.0   \n",
       "1            0.0            0.0                      0.0   \n",
       "2            0.0            0.0                      0.0   \n",
       "3            5.0            0.0                      0.0   \n",
       "4            0.0            0.0                      0.0   \n",
       "\n",
       "  injuries_non_incapacitating  injuries_reported_not_evident  \\\n",
       "0                         0.0                            0.0   \n",
       "1                         0.0                            0.0   \n",
       "2                         0.0                            0.0   \n",
       "3                         5.0                            0.0   \n",
       "4                         0.0                            0.0   \n",
       "\n",
       "   injuries_no_indication  crash_hour  crash_day_of_week  crash_month  \n",
       "0                     3.0          13                  7            7  \n",
       "1                     2.0           0                  1            8  \n",
       "2                     3.0          10                  5           12  \n",
       "3                     0.0          19                  4            8  \n",
       "4                     3.0          14                  7            8  \n",
       "\n",
       "[5 rows x 24 columns]"
      ]
     },
     "execution_count": 2,
     "metadata": {},
     "output_type": "execute_result"
    }
   ],
   "source": [
    "df = pd.read_csv(\"traffic_accidents.csv\")\n",
    "df.head()"
   ]
  },
  {
   "cell_type": "markdown",
   "id": "cced7a69-78b8-43f5-b5cf-7becc3d55942",
   "metadata": {},
   "source": [
    "In here, we can see a <strong>\"DataFrame\"</strong>. this is a more visually informative form of a Dataset, arranged in Rows and Columns like a table.<br>\n",
    "All the Observed \"Columns\" are \"Features\" for Data residing inside them, Observed \"Rows\" are the \"Instances\" which follow a given \"Feature\".<br>\n",
    "For Example, \"Clear\" is the \"Instance\" for its given \"Feature\" - \"weather_condition\", and so on."
   ]
  },
  {
   "cell_type": "markdown",
   "id": "edd4ecb4-03ad-45be-8d37-eee893317cd8",
   "metadata": {},
   "source": [
    "Moreover, The Quantity \"E\"(Experience) is \"trained\" through Machine Learning Algorithms via \"Supervised\" or \"Unsupervised\" methods. Supervised Learning is done by providing the Algorithm a \"Target Variable\" or a \"Target Feature\" which is used to predict outcomes based on given Features and their Instances, This Target Feature is also used to Calculate insights such as \"Accuracy\" and more.<br>\n",
    "In Unsupervised Learning, Algorithm has to predict outcomes solely based on the provided Features and Instances, This is usually done when a target feature is not present in th DataSet for our Training Set."
   ]
  },
  {
   "cell_type": "markdown",
   "id": "5e33f8d5-32cc-4e0b-b97e-ce7673726f2d",
   "metadata": {},
   "source": [
    "For Exammple, In our \"traffic_accidents\" DataSet, the target feature can be a Column representing if an Accident has occured or not(1 or 0, 1 for True, 0 for False) which can be used by an Algorithm trained on Features such as \"weather_condition\",\"road_defects\",etc."
   ]
  },
  {
   "cell_type": "markdown",
   "id": "2040a198-e1bb-4ba7-86ae-f964d0b551d6",
   "metadata": {},
   "source": [
    "We will look how Machine Learning Algorithms work by Two Supervised Learning Problems: Classification and Regression.<br>\n",
    "Starting off with the most popular one, A Decision Tree."
   ]
  },
  {
   "cell_type": "markdown",
   "id": "66899c4e-409b-491f-90f7-dfc8584de59c",
   "metadata": {},
   "source": [
    "## Decision Trees"
   ]
  },
  {
   "cell_type": "markdown",
   "id": "94bb3c09-cb50-464e-8552-e3da0f276cb0",
   "metadata": {},
   "source": [
    "Decision Trees are the most popular methods of Classification and Regression, this is because Decision Trees are not only used in Machine Learning but our everyday lives as well, Say there is a party to attend and one has to decide which dress to wear, the sequence of thoughts a person goes through before coming to an conclusion is only a Decision Tree, These can also be thought off as multiple \"IF\" and \"ELSE\" statements that occur until a target is achieved."
   ]
  },
  {
   "cell_type": "markdown",
   "id": "9f32ff6a-9a7d-43b7-851b-231ad77edeac",
   "metadata": {},
   "source": [
    "Flow Diagrams are the Visual Representation for Decision Trees."
   ]
  },
  {
   "cell_type": "markdown",
   "id": "5dcf0557-d82e-4da0-942b-416fef39261e",
   "metadata": {},
   "source": [
    "In terms of Machine Learning, one can also think these as Classifiers that determine the appropriate match of dress for a party, based on its theme."
   ]
  },
  {
   "cell_type": "markdown",
   "id": "2afdd691-cc3f-4a76-8e8f-80bf968a082b",
   "metadata": {},
   "source": [
    "In this Notebook, we will be solving a Binary CLassification Problem(Did an Accident Happen or Not) based on the \"road defects\", \"weather condition\", \"intersection related i\" and more features."
   ]
  },
  {
   "cell_type": "markdown",
   "id": "3ba8f7d6-f970-4145-b41b-d9a016241124",
   "metadata": {},
   "source": [
    "<img src=\"decTree.jpeg\"></img>"
   ]
  },
  {
   "cell_type": "markdown",
   "id": "b2d6c7a5-1b84-4667-8906-26b3dfe67bbd",
   "metadata": {},
   "source": [
    "Decision Trees in Machine Learning as Algorithms is same as making a sequence of logical Rules of the form \"Feature x value is True based on provided Condition = Category 1.\", into a tree like data structure."
   ]
  },
  {
   "cell_type": "markdown",
   "id": "fbbabac0-007a-4c69-aff4-7a0def68c866",
   "metadata": {},
   "source": [
    "The Advantage of this Algorithm is that it is easily interpretable and is understood quickly. for example, one can distinguish if the accident is caused by contribution of \"Weather Conditions\" or not just by knowning if Accident has occured based on other features."
   ]
  },
  {
   "cell_type": "markdown",
   "id": "3a7c1feb-f31a-479b-b328-e177e59f0bbf",
   "metadata": {},
   "source": [
    "There are many more better performing models that also are more accurate, but do not deliver the same \"Easy in Understanding\" and hence are more difficult to comprehend, this can be an issue when it comes to explaining the model to soomeone who belongs from a non - technical background."
   ]
  },
  {
   "cell_type": "markdown",
   "id": "3ea9e669-ee30-4e8f-b341-77994baa36af",
   "metadata": {},
   "source": [
    "## How to Build a Decision Tree"
   ]
  },
  {
   "cell_type": "markdown",
   "id": "f03e08cb-72f9-405b-9e59-d21555968f1b",
   "metadata": {},
   "source": [
    "Since, The Decision that an Accident has occured or not is based on conditions regarding road, weather, lighting, track type, whether there was an intersection or not, etc. The Deciding Factor turns out to be - What Variable to look after first?"
   ]
  },
  {
   "cell_type": "markdown",
   "id": "62bd4064-3be8-45b8-94a7-c8f09b44b5e3",
   "metadata": {},
   "source": [
    "Whenever trying to figure out which Variable is to be considered and which not to, always start tackling the problem with \"Broarder Scope\" or the most random argument which can be made while keeping it relevant to the topic, In our case, the first Intuition could be - \"Are there any Pot Holes on the road\" or \"Was the Weather rainy/in Monsoon\". After Identifying the Issue, keep narrowing the statements until a Binary Route(Either this or that) is achieved. Say, after our initial Statement, one had raised more dampning questions and came to a statement - \"Was there any Intersection?\" or \"Was the person that got into the Accident Monitered by some Traffic Control(Traffic Light/Police, etc)\". These are all statements which initially began with a high randomness and slowly became more clear and stable/less random. Hence, referring to the concept of \"Entropy\"."
   ]
  },
  {
   "cell_type": "markdown",
   "id": "0aec08ee-951a-4c87-9cfc-aa1925fe4260",
   "metadata": {},
   "source": [
    "### Entropy"
   ]
  },
  {
   "cell_type": "markdown",
   "id": "80fb0bfd-100b-427f-8554-8602cf1fb129",
   "metadata": {},
   "source": [
    "Entropy like Machine Learning also comes in a few shapes and forms, Thermodynamic, Statistical, Information(Shannon), Negentropy(Opposite of Entropy), Dynamic System, Sociological, Cosmological and more.<br>\n",
    "\n",
    "Each point to the same path - \"Degree of Randomness\" for a given system.<br>\n",
    "This states how randomly organized the elements inside a system are, Higher entropy results in higher randomness, whereas, Lower entropy means more organized.<br>\n",
    "A Higher Entropy means lesser energy left inside the system to work, hence more stability and vice-versa.<br>\n",
    "\n",
    "In our case, we will be studying Shannon's Entropy or \"Information Entropy\". Higher Entropy means more \"noise\" and more residual information to further filter."
   ]
  },
  {
   "cell_type": "markdown",
   "id": "52c30540-4142-4eff-8d07-a7a7e580ab35",
   "metadata": {},
   "source": [
    "#### Shannon's Entropy"
   ]
  },
  {
   "cell_type": "markdown",
   "id": "0edd10af-9b26-4145-9b18-0ef6858a3bad",
   "metadata": {},
   "source": [
    "\"A measure of the average amount of information or uncertainity associated with a random variable\".<br>\n",
    "\n",
    "This is calculated using the probabilities of different outcomes of a random variable.<br>\n",
    "A Higher Entropy indicates that random variable is of high uncertainity and probability of its occurence is very low.<br>\n",
    "A lower Entropy on the other hand, represents that the system is more predictable and elements have a high probability of occuring, like getting a \"heads\" when a coin is tossed(50% is high).<br>\n",
    "\n",
    "Hence, Shannon's Entropy is related to the uncertainity of a system and outcomes can be visualized and predicted/calculated intuitively as well."
   ]
  },
  {
   "cell_type": "markdown",
   "id": "fa0db163-77c3-493b-8e06-1fff57627305",
   "metadata": {},
   "source": [
    "The Formula for Shannon's Entrop is:\n",
    "<img src=\"Shantropy.png\"></img>"
   ]
  },
  {
   "cell_type": "markdown",
   "id": "2a52ed1e-bb9c-4c03-a92e-565feeb7632c",
   "metadata": {},
   "source": [
    "Where \"H\" represents Entropy for System, \"K\" is the number of entities and \"p<sub>i</sub>\" being the Individual Probabilities of that entity."
   ]
  },
  {
   "cell_type": "markdown",
   "id": "f80dd8e0-4f41-4341-8264-baea7e1041a1",
   "metadata": {},
   "source": [
    "#### Information Gain(IG)"
   ]
  },
  {
   "cell_type": "markdown",
   "id": "f4433a21-fecb-4ff7-a7dd-1209f85bb588",
   "metadata": {},
   "source": [
    "In Decision Tree Algorithms, Information Gain is used to select the most informative feature to split the data at each node, aiming to Improve Classification Accuracy and reduce Uncertainity.<br>\n",
    "The Feature with the highest information gain is used to split the data, this leads to better accuracy and less overfitting."
   ]
  },
  {
   "cell_type": "markdown",
   "id": "7f22f351-71ae-4692-bff3-4b392f5f1fc3",
   "metadata": {},
   "source": [
    "## Tree Building Algorithm"
   ]
  },
  {
   "cell_type": "markdown",
   "id": "ba12649e-1199-44e4-89fd-0ed9fb805aec",
   "metadata": {},
   "source": [
    "Popular Decision Tree Algorithms such as \"ID3\" or \"C4.5\" contain the principle of \"Greedy Maximization of Information Gain\", This means the Algorithm chooses the option/path with best probability to result in the most optimal solution."
   ]
  },
  {
   "cell_type": "markdown",
   "id": "26406bed-d0ae-4541-b39b-286ed1bc0676",
   "metadata": {},
   "source": [
    "The procedure is repeated recursively until the entropy is zero(or some small value).<br>\n",
    "Other Algorithms use thode concept of \"early stopping\" or \"cut off\" just to avoid overfitting."
   ]
  },
  {
   "cell_type": "code",
   "execution_count": null,
   "id": "9fb0ca3e-6cb2-4701-bd43-24ddb7ef1ab3",
   "metadata": {},
   "outputs": [],
   "source": []
  }
 ],
 "metadata": {
  "kernelspec": {
   "display_name": "Python 3 (ipykernel)",
   "language": "python",
   "name": "python3"
  },
  "language_info": {
   "codemirror_mode": {
    "name": "ipython",
    "version": 3
   },
   "file_extension": ".py",
   "mimetype": "text/x-python",
   "name": "python",
   "nbconvert_exporter": "python",
   "pygments_lexer": "ipython3",
   "version": "3.12.5"
  }
 },
 "nbformat": 4,
 "nbformat_minor": 5
}

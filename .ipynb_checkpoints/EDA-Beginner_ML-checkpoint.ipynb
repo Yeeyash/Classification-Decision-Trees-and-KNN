{
 "cells": [
  {
   "cell_type": "markdown",
   "id": "312b8e2a",
   "metadata": {},
   "source": [
    "# Introduction to Machine Learning with Classification, Decision Trees, KNN and Mathematics."
   ]
  },
  {
   "cell_type": "markdown",
   "id": "279e1828-3a72-461e-9db4-83c3a9c5fb9e",
   "metadata": {},
   "source": [
    "This Notebook is an Addition to the Work already presented (Titled: Visual Data Analysis of Accidents Using Python, NumPy, Pandas, Matplotlib and Seaborn), which was based on How to Implement Python and its Libraries to Visualize a given Dataset and provide an Analysis on it.<br>\n",
    "\n",
    "This notebook will be about my learnings from the article/notebook by <a href=\"https://www.kaggle.com/kashnitsky\">\"Yury Kashnitsky\"</a>, This is going to be put through in a way that every beginner shall get a firm gist of what Machine Learning consists of and the Amount of Learning that it has got to provide.<br>\n",
    "There are going to be a few Sentences/Lines from the Work by Sir Yury gathered via his notebook.<br>\n",
    "\n",
    "The Links and referrals are provided below:<br>\n",
    "\n",
    "Learn Introduction to Machine Learning using Classification, Decision Trees and KNN through Blogs/Notebooks: https://www.kaggle.com/code/kashnitsky/topic-3-decision-trees-and-knn#1.-Introduction <br>\n",
    "Traffic Accidents Dataset: https://www.kaggle.com/datasets/oktayrdeki/traffic-accidents <br>\n",
    "\n",
    "The previous Article covered topic like What is Univariate Visualization, Quantitative and Qualitative Features, Plotting Several types of Graphs using Seaborn and Matplotlib, and more.<br>\n",
    "\n",
    "This time we are going to focus on the basics of Machine Learning types and their Algorithms, More importantly, Understanding the Mathematics behind them and using it alongside our Intuition to come up with Better Results.<br>\n",
    "\n",
    "We also will be using the Go-To library for beginners in Machine Learning: Scikit-learn, all thanks to its Simpicity of Syntax in Python and Implementation of a Variety of Algorithms."
   ]
  },
  {
   "cell_type": "markdown",
   "id": "ae013ff3-0606-47ea-9899-e5aaf29c1829",
   "metadata": {},
   "source": [
    "## Introduction"
   ]
  },
  {
   "cell_type": "code",
   "execution_count": null,
   "id": "76f4653d-e232-4e40-a7bf-e641e9444f97",
   "metadata": {},
   "outputs": [],
   "source": []
  }
 ],
 "metadata": {
  "kernelspec": {
   "display_name": "Python 3 (ipykernel)",
   "language": "python",
   "name": "python3"
  },
  "language_info": {
   "codemirror_mode": {
    "name": "ipython",
    "version": 3
   },
   "file_extension": ".py",
   "mimetype": "text/x-python",
   "name": "python",
   "nbconvert_exporter": "python",
   "pygments_lexer": "ipython3",
   "version": "3.12.5"
  }
 },
 "nbformat": 4,
 "nbformat_minor": 5
}
